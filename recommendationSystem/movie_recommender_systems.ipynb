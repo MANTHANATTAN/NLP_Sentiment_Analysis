{
  "nbformat": 4,
  "nbformat_minor": 0,
  "metadata": {
    "kernelspec": {
      "display_name": "Python 3",
      "language": "python",
      "name": "python3"
    },
    "language_info": {
      "codemirror_mode": {
        "name": "ipython",
        "version": 3
      },
      "file_extension": ".py",
      "mimetype": "text/x-python",
      "name": "python",
      "nbconvert_exporter": "python",
      "pygments_lexer": "ipython3",
      "version": "3.6.3"
    },
    "colab": {
      "name": "movie-recommender-systems.ipynb",
      "provenance": []
    }
  },
  "cells": [
    {
      "cell_type": "markdown",
      "metadata": {
        "_cell_guid": "da447453-96e3-48fe-93cd-b9195433add6",
        "_uuid": "b63091dc0b9d04f19ab8861754a83b79c1789e96",
        "id": "8TqXG4iDvYEv"
      },
      "source": [
        "# Movies Recommender System\n",
        "- Krishn Kanhaiya Tikmani\n",
        "- Abhishek Bajapai\n",
        "- Akshat Purohit\n",
        "- Mujahid Bari\n",
        "\n",
        "EE626 Final Project"
      ]
    },
    {
      "cell_type": "markdown",
      "metadata": {
        "_cell_guid": "351091d0-4223-4510-b737-3d109883c4bf",
        "_uuid": "c9e02ccf7a6f04280a8a949fe82cc3c12f8a769f",
        "id": "Muh-h-T7vYFL"
      },
      "source": [
        "\n",
        "In this notebook, I will attempt at implementing a few recommendation algorithms (content based, popularity based and collaborative filtering) and try to build an ensemble of these models to come up with our final recommendation system. With us, we have two MovieLens datasets.\n",
        "\n",
        "* **The Full Dataset:** Consists of 26,000,000 ratings and 750,000 tag applications applied to 45,000 movies by 270,000 users. Includes tag genome data with 12 million relevance scores across 1,100 tags.\n",
        "* **The Small Dataset:** Comprises of 100,000 ratings and 1,300 tag applications applied to 9,000 movies by 700 users.\n"
      ]
    },
    {
      "cell_type": "code",
      "metadata": {
        "colab": {
          "base_uri": "https://localhost:8080/",
          "height": 0
        },
        "id": "_DZlo0dySodW",
        "outputId": "9f482762-6eaa-4754-9dbc-c8ffdc5551e3"
      },
      "source": [
        "!pip install surprise"
      ],
      "execution_count": 2,
      "outputs": [
        {
          "output_type": "stream",
          "text": [
            "Collecting surprise\n",
            "  Downloading https://files.pythonhosted.org/packages/61/de/e5cba8682201fcf9c3719a6fdda95693468ed061945493dea2dd37c5618b/surprise-0.1-py2.py3-none-any.whl\n",
            "Collecting scikit-surprise\n",
            "\u001b[?25l  Downloading https://files.pythonhosted.org/packages/97/37/5d334adaf5ddd65da99fc65f6507e0e4599d092ba048f4302fe8775619e8/scikit-surprise-1.1.1.tar.gz (11.8MB)\n",
            "\u001b[K     |████████████████████████████████| 11.8MB 279kB/s \n",
            "\u001b[?25hRequirement already satisfied: joblib>=0.11 in /usr/local/lib/python3.7/dist-packages (from scikit-surprise->surprise) (1.0.1)\n",
            "Requirement already satisfied: numpy>=1.11.2 in /usr/local/lib/python3.7/dist-packages (from scikit-surprise->surprise) (1.19.5)\n",
            "Requirement already satisfied: scipy>=1.0.0 in /usr/local/lib/python3.7/dist-packages (from scikit-surprise->surprise) (1.4.1)\n",
            "Requirement already satisfied: six>=1.10.0 in /usr/local/lib/python3.7/dist-packages (from scikit-surprise->surprise) (1.15.0)\n",
            "Building wheels for collected packages: scikit-surprise\n",
            "  Building wheel for scikit-surprise (setup.py) ... \u001b[?25l\u001b[?25hdone\n",
            "  Created wheel for scikit-surprise: filename=scikit_surprise-1.1.1-cp37-cp37m-linux_x86_64.whl size=1617543 sha256=4f19d373b88784b40ded573154bb24032dd1cd8dba5e57663655788638aa0a08\n",
            "  Stored in directory: /root/.cache/pip/wheels/78/9c/3d/41b419c9d2aff5b6e2b4c0fc8d25c538202834058f9ed110d0\n",
            "Successfully built scikit-surprise\n",
            "Installing collected packages: scikit-surprise, surprise\n",
            "Successfully installed scikit-surprise-1.1.1 surprise-0.1\n"
          ],
          "name": "stdout"
        }
      ]
    },
    {
      "cell_type": "code",
      "metadata": {
        "_cell_guid": "78fea705-f9ad-4a81-aafd-8b7b624110d1",
        "_uuid": "1c291fe3725c706e0003f01f0102abb9709f25fc",
        "collapsed": true,
        "id": "85wyH5zivYFO"
      },
      "source": [
        "%matplotlib inline\n",
        "import pandas as pd\n",
        "import numpy as np\n",
        "import matplotlib.pyplot as plt\n",
        "import seaborn as sns\n",
        "from scipy import stats\n",
        "from ast import literal_eval\n",
        "from sklearn.feature_extraction.text import TfidfVectorizer, CountVectorizer\n",
        "from sklearn.metrics.pairwise import linear_kernel, cosine_similarity\n",
        "from nltk.stem.snowball import SnowballStemmer\n",
        "from nltk.stem.wordnet import WordNetLemmatizer\n",
        "from nltk.corpus import wordnet\n",
        "from surprise import Reader, Dataset, SVD,model_selection\n",
        "\n",
        "import warnings; warnings.simplefilter('ignore')"
      ],
      "execution_count": 3,
      "outputs": []
    },
    {
      "cell_type": "markdown",
      "metadata": {
        "_cell_guid": "f130bae8-1bb0-415d-9a39-557fe180b490",
        "_uuid": "49131e65f312719487848f6ef42488041a44028e",
        "id": "ixbN5HKAvYFQ"
      },
      "source": [
        "## Simple Recommender\n",
        "\n",
        "The Simple Recommender provides users with generalised recommendations focused on movie popularity and (occasionally) genre. The underlying premise behind this recommender is that films that are more successful and highly praised are more likely to be liked by the general public. This model would not provide users with customised feedback.\n",
        "\n"
      ]
    },
    {
      "cell_type": "code",
      "metadata": {
        "_cell_guid": "0356d2a0-d8b2-4234-af78-bd51eaa3a390",
        "_uuid": "e0d62612bc9b9e9561afdc48fd1e75a9b0c82337",
        "colab": {
          "base_uri": "https://localhost:8080/",
          "height": 666
        },
        "id": "O0o8L1ExvYFS",
        "outputId": "b16fb427-f05a-4ed7-f61f-cf1eae611997"
      },
      "source": [
        "md = pd.read_csv(\"/content/movies_metadata 2.csv\")\n",
        "md.head()"
      ],
      "execution_count": 4,
      "outputs": [
        {
          "output_type": "execute_result",
          "data": {
            "text/html": [
              "<div>\n",
              "<style scoped>\n",
              "    .dataframe tbody tr th:only-of-type {\n",
              "        vertical-align: middle;\n",
              "    }\n",
              "\n",
              "    .dataframe tbody tr th {\n",
              "        vertical-align: top;\n",
              "    }\n",
              "\n",
              "    .dataframe thead th {\n",
              "        text-align: right;\n",
              "    }\n",
              "</style>\n",
              "<table border=\"1\" class=\"dataframe\">\n",
              "  <thead>\n",
              "    <tr style=\"text-align: right;\">\n",
              "      <th></th>\n",
              "      <th>adult</th>\n",
              "      <th>belongs_to_collection</th>\n",
              "      <th>budget</th>\n",
              "      <th>genres</th>\n",
              "      <th>homepage</th>\n",
              "      <th>id</th>\n",
              "      <th>imdb_id</th>\n",
              "      <th>original_language</th>\n",
              "      <th>original_title</th>\n",
              "      <th>overview</th>\n",
              "      <th>popularity</th>\n",
              "      <th>poster_path</th>\n",
              "      <th>production_companies</th>\n",
              "      <th>production_countries</th>\n",
              "      <th>release_date</th>\n",
              "      <th>revenue</th>\n",
              "      <th>runtime</th>\n",
              "      <th>spoken_languages</th>\n",
              "      <th>status</th>\n",
              "      <th>tagline</th>\n",
              "      <th>title</th>\n",
              "      <th>video</th>\n",
              "      <th>vote_average</th>\n",
              "      <th>vote_count</th>\n",
              "    </tr>\n",
              "  </thead>\n",
              "  <tbody>\n",
              "    <tr>\n",
              "      <th>0</th>\n",
              "      <td>False</td>\n",
              "      <td>{'id': 10194, 'name': 'Toy Story Collection', ...</td>\n",
              "      <td>30000000</td>\n",
              "      <td>[{'id': 16, 'name': 'Animation'}, {'id': 35, '...</td>\n",
              "      <td>http://toystory.disney.com/toy-story</td>\n",
              "      <td>862</td>\n",
              "      <td>tt0114709</td>\n",
              "      <td>en</td>\n",
              "      <td>Toy Story</td>\n",
              "      <td>Led by Woody, Andy's toys live happily in his ...</td>\n",
              "      <td>21.9469</td>\n",
              "      <td>/rhIRbceoE9lR4veEXuwCC2wARtG.jpg</td>\n",
              "      <td>[{'name': 'Pixar Animation Studios', 'id': 3}]</td>\n",
              "      <td>[{'iso_3166_1': 'US', 'name': 'United States o...</td>\n",
              "      <td>1995-10-30</td>\n",
              "      <td>373554033.0</td>\n",
              "      <td>81.0</td>\n",
              "      <td>[{'iso_639_1': 'en', 'name': 'English'}]</td>\n",
              "      <td>Released</td>\n",
              "      <td>NaN</td>\n",
              "      <td>Toy Story</td>\n",
              "      <td>False</td>\n",
              "      <td>7.7</td>\n",
              "      <td>5415.0</td>\n",
              "    </tr>\n",
              "    <tr>\n",
              "      <th>1</th>\n",
              "      <td>False</td>\n",
              "      <td>NaN</td>\n",
              "      <td>65000000</td>\n",
              "      <td>[{'id': 12, 'name': 'Adventure'}, {'id': 14, '...</td>\n",
              "      <td>NaN</td>\n",
              "      <td>8844</td>\n",
              "      <td>tt0113497</td>\n",
              "      <td>en</td>\n",
              "      <td>Jumanji</td>\n",
              "      <td>When siblings Judy and Peter discover an encha...</td>\n",
              "      <td>17.0155</td>\n",
              "      <td>/vzmL6fP7aPKNKPRTFnZmiUfciyV.jpg</td>\n",
              "      <td>[{'name': 'TriStar Pictures', 'id': 559}, {'na...</td>\n",
              "      <td>[{'iso_3166_1': 'US', 'name': 'United States o...</td>\n",
              "      <td>1995-12-15</td>\n",
              "      <td>262797249.0</td>\n",
              "      <td>104.0</td>\n",
              "      <td>[{'iso_639_1': 'en', 'name': 'English'}, {'iso...</td>\n",
              "      <td>Released</td>\n",
              "      <td>Roll the dice and unleash the excitement!</td>\n",
              "      <td>Jumanji</td>\n",
              "      <td>False</td>\n",
              "      <td>6.9</td>\n",
              "      <td>2413.0</td>\n",
              "    </tr>\n",
              "    <tr>\n",
              "      <th>2</th>\n",
              "      <td>False</td>\n",
              "      <td>{'id': 119050, 'name': 'Grumpy Old Men Collect...</td>\n",
              "      <td>0</td>\n",
              "      <td>[{'id': 10749, 'name': 'Romance'}, {'id': 35, ...</td>\n",
              "      <td>NaN</td>\n",
              "      <td>15602</td>\n",
              "      <td>tt0113228</td>\n",
              "      <td>en</td>\n",
              "      <td>Grumpier Old Men</td>\n",
              "      <td>A family wedding reignites the ancient feud be...</td>\n",
              "      <td>11.7129</td>\n",
              "      <td>/6ksm1sjKMFLbO7UY2i6G1ju9SML.jpg</td>\n",
              "      <td>[{'name': 'Warner Bros.', 'id': 6194}, {'name'...</td>\n",
              "      <td>[{'iso_3166_1': 'US', 'name': 'United States o...</td>\n",
              "      <td>1995-12-22</td>\n",
              "      <td>0.0</td>\n",
              "      <td>101.0</td>\n",
              "      <td>[{'iso_639_1': 'en', 'name': 'English'}]</td>\n",
              "      <td>Released</td>\n",
              "      <td>Still Yelling. Still Fighting. Still Ready for...</td>\n",
              "      <td>Grumpier Old Men</td>\n",
              "      <td>False</td>\n",
              "      <td>6.5</td>\n",
              "      <td>92.0</td>\n",
              "    </tr>\n",
              "    <tr>\n",
              "      <th>3</th>\n",
              "      <td>False</td>\n",
              "      <td>NaN</td>\n",
              "      <td>16000000</td>\n",
              "      <td>[{'id': 35, 'name': 'Comedy'}, {'id': 18, 'nam...</td>\n",
              "      <td>NaN</td>\n",
              "      <td>31357</td>\n",
              "      <td>tt0114885</td>\n",
              "      <td>en</td>\n",
              "      <td>Waiting to Exhale</td>\n",
              "      <td>Cheated on, mistreated and stepped on, the wom...</td>\n",
              "      <td>3.85949</td>\n",
              "      <td>/16XOMpEaLWkrcPqSQqhTmeJuqQl.jpg</td>\n",
              "      <td>[{'name': 'Twentieth Century Fox Film Corporat...</td>\n",
              "      <td>[{'iso_3166_1': 'US', 'name': 'United States o...</td>\n",
              "      <td>1995-12-22</td>\n",
              "      <td>81452156.0</td>\n",
              "      <td>127.0</td>\n",
              "      <td>[{'iso_639_1': 'en', 'name': 'English'}]</td>\n",
              "      <td>Released</td>\n",
              "      <td>Friends are the people who let you be yourself...</td>\n",
              "      <td>Waiting to Exhale</td>\n",
              "      <td>False</td>\n",
              "      <td>6.1</td>\n",
              "      <td>34.0</td>\n",
              "    </tr>\n",
              "    <tr>\n",
              "      <th>4</th>\n",
              "      <td>False</td>\n",
              "      <td>{'id': 96871, 'name': 'Father of the Bride Col...</td>\n",
              "      <td>0</td>\n",
              "      <td>[{'id': 35, 'name': 'Comedy'}]</td>\n",
              "      <td>NaN</td>\n",
              "      <td>11862</td>\n",
              "      <td>tt0113041</td>\n",
              "      <td>en</td>\n",
              "      <td>Father of the Bride Part II</td>\n",
              "      <td>Just when George Banks has recovered from his ...</td>\n",
              "      <td>8.38752</td>\n",
              "      <td>/e64sOI48hQXyru7naBFyssKFxVd.jpg</td>\n",
              "      <td>[{'name': 'Sandollar Productions', 'id': 5842}...</td>\n",
              "      <td>[{'iso_3166_1': 'US', 'name': 'United States o...</td>\n",
              "      <td>1995-02-10</td>\n",
              "      <td>76578911.0</td>\n",
              "      <td>106.0</td>\n",
              "      <td>[{'iso_639_1': 'en', 'name': 'English'}]</td>\n",
              "      <td>Released</td>\n",
              "      <td>Just When His World Is Back To Normal... He's ...</td>\n",
              "      <td>Father of the Bride Part II</td>\n",
              "      <td>False</td>\n",
              "      <td>5.7</td>\n",
              "      <td>173.0</td>\n",
              "    </tr>\n",
              "  </tbody>\n",
              "</table>\n",
              "</div>"
            ],
            "text/plain": [
              "   adult  ... vote_count\n",
              "0  False  ...     5415.0\n",
              "1  False  ...     2413.0\n",
              "2  False  ...       92.0\n",
              "3  False  ...       34.0\n",
              "4  False  ...      173.0\n",
              "\n",
              "[5 rows x 24 columns]"
            ]
          },
          "metadata": {
            "tags": []
          },
          "execution_count": 4
        }
      ]
    },
    {
      "cell_type": "code",
      "metadata": {
        "_cell_guid": "f933a861-409a-4df7-98f1-7960a2a3874b",
        "_uuid": "d4df4c2158595611f2ea7ad4b16f71900e529ea8",
        "collapsed": true,
        "id": "VnhpAp9gvYFV"
      },
      "source": [
        "md['genres'] = md['genres'].fillna('[]').apply(literal_eval).apply(lambda x: [i['name'] for i in x] if isinstance(x, list) else [])"
      ],
      "execution_count": 5,
      "outputs": []
    },
    {
      "cell_type": "markdown",
      "metadata": {
        "_cell_guid": "23cf39ba-ef09-4972-9d1f-ed91cb2ef134",
        "_uuid": "9571875d383f237f126febe9c76f966e2869fdc3",
        "id": "hZTXsxGavYFW"
      },
      "source": [
        "\n",
        "\n",
        "Weighted Rating (WR) = $(\\frac{v}{v + m} . R) + (\\frac{m}{v + m} . C)$\n",
        "\n",
        "where,\n",
        "* *v* is the number of votes for the movie\n",
        "* *m* is the minimum votes required to be listed in the chart\n",
        "* *R* is the average rating of the movie\n",
        "* *C* is the mean vote across the whole report\n",
        "\n",
        "The next step is to determine an appropriate value for *m*, the minimum votes required to be listed in the chart. We will use **95th percentile** as our cutoff. In other words, for a movie to feature in the charts, it must have more votes than at least 95% of the movies in the list.\n",
        "\n"
      ]
    },
    {
      "cell_type": "code",
      "metadata": {
        "_cell_guid": "de5d2a9a-9d67-4309-9256-844756318bd0",
        "_uuid": "1e732487caba09d9543f3da49cbe7ff5092e2675",
        "id": "UZBB_wcGvYFW",
        "colab": {
          "base_uri": "https://localhost:8080/",
          "height": 0
        },
        "outputId": "b7c9ac59-765a-4f39-ed8a-ee7da83683a9"
      },
      "source": [
        "vote_counts = md[md['vote_count'].notnull()]['vote_count'].astype('int')\n",
        "vote_averages = md[md['vote_average'].notnull()]['vote_average'].astype('int')\n",
        "C = vote_averages.mean()\n",
        "C"
      ],
      "execution_count": 6,
      "outputs": [
        {
          "output_type": "execute_result",
          "data": {
            "text/plain": [
              "5.244896612406511"
            ]
          },
          "metadata": {
            "tags": []
          },
          "execution_count": 6
        }
      ]
    },
    {
      "cell_type": "code",
      "metadata": {
        "_cell_guid": "f2a3dff7-6430-471b-bd83-589779ab52b0",
        "_uuid": "23c2e113380f1bad9205ab2d0f8c372b0c246e79",
        "id": "-0H17j8QvYFX",
        "colab": {
          "base_uri": "https://localhost:8080/",
          "height": 0
        },
        "outputId": "fa6bfff8-0f7e-4677-879e-f48fcee07c11"
      },
      "source": [
        "m = vote_counts.quantile(0.95)\n",
        "m"
      ],
      "execution_count": 7,
      "outputs": [
        {
          "output_type": "execute_result",
          "data": {
            "text/plain": [
              "434.0"
            ]
          },
          "metadata": {
            "tags": []
          },
          "execution_count": 7
        }
      ]
    },
    {
      "cell_type": "code",
      "metadata": {
        "_cell_guid": "93f480df-6e7b-427c-bbc0-906fd41640b0",
        "_uuid": "dbb8261dedb84e4a8ea8bed843c9de3ad9f3859d",
        "collapsed": true,
        "id": "7UmX2XxnvYFY"
      },
      "source": [
        "md['year'] = pd.to_datetime(md['release_date'], errors='coerce').apply(lambda x: str(x).split('-')[0] if x != np.nan else np.nan)"
      ],
      "execution_count": 8,
      "outputs": []
    },
    {
      "cell_type": "code",
      "metadata": {
        "_cell_guid": "e7e91af4-7ff5-4553-bfbb-b9339096397e",
        "_uuid": "dcb30bee69ef1a6ead2c745565e5e7bfd5314d7a",
        "id": "fCGzRJUxvYFY",
        "colab": {
          "base_uri": "https://localhost:8080/",
          "height": 0
        },
        "outputId": "7ba395f2-6455-4fde-a403-fddb3b540002"
      },
      "source": [
        "qualified = md[(md['vote_count'] >= m) & (md['vote_count'].notnull()) & (md['vote_average'].notnull())][['title', 'year', 'vote_count', 'vote_average', 'popularity', 'genres']]\n",
        "qualified['vote_count'] = qualified['vote_count'].astype('int')\n",
        "qualified['vote_average'] = qualified['vote_average'].astype('int')\n",
        "qualified.shape"
      ],
      "execution_count": 9,
      "outputs": [
        {
          "output_type": "execute_result",
          "data": {
            "text/plain": [
              "(2274, 6)"
            ]
          },
          "metadata": {
            "tags": []
          },
          "execution_count": 9
        }
      ]
    },
    {
      "cell_type": "code",
      "metadata": {
        "_cell_guid": "db959c40-7618-4755-a05a-5347f9460929",
        "_uuid": "6414e1aa7ed8cb4184ec451f02a18cd187e5345e",
        "collapsed": true,
        "id": "ry7TyR7jvYFa"
      },
      "source": [
        "def weighted_rating(x):\n",
        "    v = x['vote_count']\n",
        "    R = x['vote_average']\n",
        "    return (v/(v+m) * R) + (m/(m+v) * C)"
      ],
      "execution_count": 10,
      "outputs": []
    },
    {
      "cell_type": "code",
      "metadata": {
        "_cell_guid": "0f5e4384-51be-41df-a023-12a13e77d66c",
        "_uuid": "78ec5052b0e89ae51a834aa3a305cf55b6849f42",
        "collapsed": true,
        "id": "D8zBp_kOvYFb"
      },
      "source": [
        "qualified['wr'] = qualified.apply(weighted_rating, axis=1)"
      ],
      "execution_count": 11,
      "outputs": []
    },
    {
      "cell_type": "code",
      "metadata": {
        "_cell_guid": "ccbd8eca-cbfe-4843-9885-de11976f117c",
        "_uuid": "ed0ac7c8483f904d4f5ec0d554096d4782fa8bcf",
        "collapsed": true,
        "id": "o_qXoopSvYFc"
      },
      "source": [
        "qualified = qualified.sort_values('wr', ascending=False).head(250)"
      ],
      "execution_count": 12,
      "outputs": []
    },
    {
      "cell_type": "markdown",
      "metadata": {
        "_cell_guid": "36a1b9ac-aff3-4d80-9e19-83a45f282062",
        "_uuid": "75eb9e1de05386d229746785a25c6a5c6ee4b61a",
        "id": "MoVwH0oKvYFc"
      },
      "source": [
        "### Top Movies"
      ]
    },
    {
      "cell_type": "code",
      "metadata": {
        "_cell_guid": "0bca5b03-0835-4902-aaa1-beceb9d9d47f",
        "_uuid": "f7f6821b7e9aff099b81fcc425fd20109894b351",
        "id": "vhCwKTIzvYFd",
        "colab": {
          "base_uri": "https://localhost:8080/",
          "height": 514
        },
        "outputId": "612beccb-beff-4ada-f8c9-634fa149c623"
      },
      "source": [
        "qualified.head(15)"
      ],
      "execution_count": 13,
      "outputs": [
        {
          "output_type": "execute_result",
          "data": {
            "text/html": [
              "<div>\n",
              "<style scoped>\n",
              "    .dataframe tbody tr th:only-of-type {\n",
              "        vertical-align: middle;\n",
              "    }\n",
              "\n",
              "    .dataframe tbody tr th {\n",
              "        vertical-align: top;\n",
              "    }\n",
              "\n",
              "    .dataframe thead th {\n",
              "        text-align: right;\n",
              "    }\n",
              "</style>\n",
              "<table border=\"1\" class=\"dataframe\">\n",
              "  <thead>\n",
              "    <tr style=\"text-align: right;\">\n",
              "      <th></th>\n",
              "      <th>title</th>\n",
              "      <th>year</th>\n",
              "      <th>vote_count</th>\n",
              "      <th>vote_average</th>\n",
              "      <th>popularity</th>\n",
              "      <th>genres</th>\n",
              "      <th>wr</th>\n",
              "    </tr>\n",
              "  </thead>\n",
              "  <tbody>\n",
              "    <tr>\n",
              "      <th>15480</th>\n",
              "      <td>Inception</td>\n",
              "      <td>2010</td>\n",
              "      <td>14075</td>\n",
              "      <td>8</td>\n",
              "      <td>29.1081</td>\n",
              "      <td>[Action, Thriller, Science Fiction, Mystery, A...</td>\n",
              "      <td>7.917588</td>\n",
              "    </tr>\n",
              "    <tr>\n",
              "      <th>12481</th>\n",
              "      <td>The Dark Knight</td>\n",
              "      <td>2008</td>\n",
              "      <td>12269</td>\n",
              "      <td>8</td>\n",
              "      <td>123.167</td>\n",
              "      <td>[Drama, Action, Crime, Thriller]</td>\n",
              "      <td>7.905871</td>\n",
              "    </tr>\n",
              "    <tr>\n",
              "      <th>22879</th>\n",
              "      <td>Interstellar</td>\n",
              "      <td>2014</td>\n",
              "      <td>11187</td>\n",
              "      <td>8</td>\n",
              "      <td>32.2135</td>\n",
              "      <td>[Adventure, Drama, Science Fiction]</td>\n",
              "      <td>7.897107</td>\n",
              "    </tr>\n",
              "    <tr>\n",
              "      <th>2843</th>\n",
              "      <td>Fight Club</td>\n",
              "      <td>1999</td>\n",
              "      <td>9678</td>\n",
              "      <td>8</td>\n",
              "      <td>63.8696</td>\n",
              "      <td>[Drama]</td>\n",
              "      <td>7.881753</td>\n",
              "    </tr>\n",
              "    <tr>\n",
              "      <th>4863</th>\n",
              "      <td>The Lord of the Rings: The Fellowship of the Ring</td>\n",
              "      <td>2001</td>\n",
              "      <td>8892</td>\n",
              "      <td>8</td>\n",
              "      <td>32.0707</td>\n",
              "      <td>[Adventure, Fantasy, Action]</td>\n",
              "      <td>7.871787</td>\n",
              "    </tr>\n",
              "    <tr>\n",
              "      <th>292</th>\n",
              "      <td>Pulp Fiction</td>\n",
              "      <td>1994</td>\n",
              "      <td>8670</td>\n",
              "      <td>8</td>\n",
              "      <td>140.95</td>\n",
              "      <td>[Thriller, Crime]</td>\n",
              "      <td>7.868660</td>\n",
              "    </tr>\n",
              "    <tr>\n",
              "      <th>314</th>\n",
              "      <td>The Shawshank Redemption</td>\n",
              "      <td>1994</td>\n",
              "      <td>8358</td>\n",
              "      <td>8</td>\n",
              "      <td>51.6454</td>\n",
              "      <td>[Drama, Crime]</td>\n",
              "      <td>7.864000</td>\n",
              "    </tr>\n",
              "    <tr>\n",
              "      <th>7000</th>\n",
              "      <td>The Lord of the Rings: The Return of the King</td>\n",
              "      <td>2003</td>\n",
              "      <td>8226</td>\n",
              "      <td>8</td>\n",
              "      <td>29.3244</td>\n",
              "      <td>[Adventure, Fantasy, Action]</td>\n",
              "      <td>7.861927</td>\n",
              "    </tr>\n",
              "    <tr>\n",
              "      <th>351</th>\n",
              "      <td>Forrest Gump</td>\n",
              "      <td>1994</td>\n",
              "      <td>8147</td>\n",
              "      <td>8</td>\n",
              "      <td>48.3072</td>\n",
              "      <td>[Comedy, Drama, Romance]</td>\n",
              "      <td>7.860656</td>\n",
              "    </tr>\n",
              "    <tr>\n",
              "      <th>5814</th>\n",
              "      <td>The Lord of the Rings: The Two Towers</td>\n",
              "      <td>2002</td>\n",
              "      <td>7641</td>\n",
              "      <td>8</td>\n",
              "      <td>29.4235</td>\n",
              "      <td>[Adventure, Fantasy, Action]</td>\n",
              "      <td>7.851924</td>\n",
              "    </tr>\n",
              "    <tr>\n",
              "      <th>256</th>\n",
              "      <td>Star Wars</td>\n",
              "      <td>1977</td>\n",
              "      <td>6778</td>\n",
              "      <td>8</td>\n",
              "      <td>42.1497</td>\n",
              "      <td>[Adventure, Action, Science Fiction]</td>\n",
              "      <td>7.834205</td>\n",
              "    </tr>\n",
              "    <tr>\n",
              "      <th>1225</th>\n",
              "      <td>Back to the Future</td>\n",
              "      <td>1985</td>\n",
              "      <td>6239</td>\n",
              "      <td>8</td>\n",
              "      <td>25.7785</td>\n",
              "      <td>[Adventure, Comedy, Science Fiction, Family]</td>\n",
              "      <td>7.820813</td>\n",
              "    </tr>\n",
              "    <tr>\n",
              "      <th>834</th>\n",
              "      <td>The Godfather</td>\n",
              "      <td>1972</td>\n",
              "      <td>6024</td>\n",
              "      <td>8</td>\n",
              "      <td>41.1093</td>\n",
              "      <td>[Drama, Crime]</td>\n",
              "      <td>7.814847</td>\n",
              "    </tr>\n",
              "    <tr>\n",
              "      <th>1154</th>\n",
              "      <td>The Empire Strikes Back</td>\n",
              "      <td>1980</td>\n",
              "      <td>5998</td>\n",
              "      <td>8</td>\n",
              "      <td>19.471</td>\n",
              "      <td>[Adventure, Action, Science Fiction]</td>\n",
              "      <td>7.814099</td>\n",
              "    </tr>\n",
              "    <tr>\n",
              "      <th>46</th>\n",
              "      <td>Se7en</td>\n",
              "      <td>1995</td>\n",
              "      <td>5915</td>\n",
              "      <td>8</td>\n",
              "      <td>18.4574</td>\n",
              "      <td>[Crime, Mystery, Thriller]</td>\n",
              "      <td>7.811669</td>\n",
              "    </tr>\n",
              "  </tbody>\n",
              "</table>\n",
              "</div>"
            ],
            "text/plain": [
              "                                                   title  ...        wr\n",
              "15480                                          Inception  ...  7.917588\n",
              "12481                                    The Dark Knight  ...  7.905871\n",
              "22879                                       Interstellar  ...  7.897107\n",
              "2843                                          Fight Club  ...  7.881753\n",
              "4863   The Lord of the Rings: The Fellowship of the Ring  ...  7.871787\n",
              "292                                         Pulp Fiction  ...  7.868660\n",
              "314                             The Shawshank Redemption  ...  7.864000\n",
              "7000       The Lord of the Rings: The Return of the King  ...  7.861927\n",
              "351                                         Forrest Gump  ...  7.860656\n",
              "5814               The Lord of the Rings: The Two Towers  ...  7.851924\n",
              "256                                            Star Wars  ...  7.834205\n",
              "1225                                  Back to the Future  ...  7.820813\n",
              "834                                        The Godfather  ...  7.814847\n",
              "1154                             The Empire Strikes Back  ...  7.814099\n",
              "46                                                 Se7en  ...  7.811669\n",
              "\n",
              "[15 rows x 7 columns]"
            ]
          },
          "metadata": {
            "tags": []
          },
          "execution_count": 13
        }
      ]
    },
    {
      "cell_type": "markdown",
      "metadata": {
        "_cell_guid": "0942cc17-4e7c-4293-be59-0993261af6e3",
        "_uuid": "dd0636ab9235cef9afab293696b5c57521cc28b9",
        "id": "14yulsUGvYFe"
      },
      "source": [
        "We see that three Christopher Nolan Films, **Inception**, **The Dark Knight** and **Interstellar** occur at the very top of our chart. The chart also indicates a strong bias of TMDB Users towards particular genres and directors. \n",
        "\n",
        "Let us now construct our function that builds charts for particular genres. For this, we will use relax our default conditions to the **85th** percentile instead of 95. "
      ]
    },
    {
      "cell_type": "code",
      "metadata": {
        "_cell_guid": "c6be871d-62d4-4ec4-abe4-6ca1b1c01fa0",
        "_uuid": "b59a35544efcd50e89e4bb1ea14bbfe32fc9bcd3",
        "collapsed": true,
        "id": "z895tJ-pvYFf"
      },
      "source": [
        "s = md.apply(lambda x: pd.Series(x['genres']),axis=1).stack().reset_index(level=1, drop=True)\n",
        "s.name = 'genre'\n",
        "gen_md = md.drop('genres', axis=1).join(s)"
      ],
      "execution_count": 14,
      "outputs": []
    },
    {
      "cell_type": "code",
      "metadata": {
        "_cell_guid": "759652cb-5b16-4951-995c-6a3bdbae0e4e",
        "_uuid": "1fdfea9cd4b046b11ff8f2ac4f2bea74fccb8a8b",
        "collapsed": true,
        "id": "Asqz_c_YvYFg"
      },
      "source": [
        "def build_chart(genre, percentile=0.85):\n",
        "    df = gen_md[gen_md['genre'] == genre]\n",
        "    vote_counts = df[df['vote_count'].notnull()]['vote_count'].astype('int')\n",
        "    vote_averages = df[df['vote_average'].notnull()]['vote_average'].astype('int')\n",
        "    C = vote_averages.mean()\n",
        "    m = vote_counts.quantile(percentile)\n",
        "    \n",
        "    qualified = df[(df['vote_count'] >= m) & (df['vote_count'].notnull()) & (df['vote_average'].notnull())][['title', 'year', 'vote_count', 'vote_average', 'popularity']]\n",
        "    qualified['vote_count'] = qualified['vote_count'].astype('int')\n",
        "    qualified['vote_average'] = qualified['vote_average'].astype('int')\n",
        "    \n",
        "    qualified['wr'] = qualified.apply(lambda x: (x['vote_count']/(x['vote_count']+m) * x['vote_average']) + (m/(m+x['vote_count']) * C), axis=1)\n",
        "    qualified = qualified.sort_values('wr', ascending=False).head(250)\n",
        "    \n",
        "    return qualified"
      ],
      "execution_count": 15,
      "outputs": []
    },
    {
      "cell_type": "markdown",
      "metadata": {
        "_cell_guid": "b6e1eb8b-6109-40ff-ab8a-37bd047c03ac",
        "_uuid": "0b0f95bdf966d06c2d7053535d46183b03a75cc1",
        "id": "EZI4qkKRvYFi"
      },
      "source": [
        "## Content Based Recommender\n",
        "\n",
        "The recommender we built in the previous section suffers some severe limitations. For one, it gives the same recommendation to everyone, regardless of the user's personal taste. If a person who loves romantic movies (and hates action) were to look at our Top 15 Chart, s/he wouldn't probably like most of the movies. If s/he were to go one step further and look at our charts by genre, s/he wouldn't still be getting the best recommendations.\n",
        "\n",
        "\n",
        "To personalise our recommendations more, I am going to build an engine that computes similarity between movies based on certain metrics and suggests movies that are most similar to a particular movie that a user liked. Since we will be using movie metadata (or content) to build this engine, this also known as **Content Based Filtering.**\n",
        "\n",
        "I will build two Content Based Recommenders based on:\n",
        "* Movie Overviews and Taglines\n",
        "* Movie Cast, Crew, Keywords and Genre\n"
      ]
    },
    {
      "cell_type": "code",
      "metadata": {
        "_cell_guid": "bd5f4440-f90d-46a4-8640-204541d99d40",
        "_uuid": "dc237e14c8346bdd51624d21b6b082399afd3062",
        "collapsed": true,
        "id": "nz4vKbi-vYFi"
      },
      "source": [
        "links_small = pd.read_csv('/content/links_small.csv')\n",
        "links_small = links_small[links_small['tmdbId'].notnull()]['tmdbId'].astype('int')"
      ],
      "execution_count": 16,
      "outputs": []
    },
    {
      "cell_type": "code",
      "metadata": {
        "_cell_guid": "cda91291-c8d5-475a-8b0f-ab4030d29f62",
        "_uuid": "6c5af69fefa991d46594401a5eac0656e5980484",
        "collapsed": true,
        "id": "PfMMQsgPvYFi"
      },
      "source": [
        "md = md.drop([19730, 29503, 35587])"
      ],
      "execution_count": 17,
      "outputs": []
    },
    {
      "cell_type": "code",
      "metadata": {
        "_cell_guid": "f68cb861-7c30-4b3d-b655-520379e61d70",
        "_uuid": "87eb84540a3c22a3f7bf54edeee5b491ef571416",
        "collapsed": true,
        "id": "jksIKMhlvYFj"
      },
      "source": [
        "#Check EDA Notebook for how and why I got these indices.\n",
        "md['id'] = md['id'].astype('int')"
      ],
      "execution_count": 18,
      "outputs": []
    },
    {
      "cell_type": "code",
      "metadata": {
        "_cell_guid": "0b968a6a-6b0d-4df6-9e28-91c06e6c36c2",
        "_uuid": "3f2a7f55a030beeb06b713f854e4ca6a69b5ca13",
        "id": "Oq6OamUMvYFj",
        "colab": {
          "base_uri": "https://localhost:8080/",
          "height": 0
        },
        "outputId": "d099f758-7830-4a4d-971c-6c29bfffe021"
      },
      "source": [
        "smd = md[md['id'].isin(links_small)]\n",
        "smd.shape"
      ],
      "execution_count": 19,
      "outputs": [
        {
          "output_type": "execute_result",
          "data": {
            "text/plain": [
              "(9099, 25)"
            ]
          },
          "metadata": {
            "tags": []
          },
          "execution_count": 19
        }
      ]
    },
    {
      "cell_type": "markdown",
      "metadata": {
        "_cell_guid": "0f9e6043-68e8-4b0c-a435-e456e19e9144",
        "_uuid": "1ebd72fcc46ac2ac20016ff34dad40a9f8879ac9",
        "id": "2dmYsJsqvYFk"
      },
      "source": [
        "We have **9099** movies avaiable in our small movies metadata dataset which is 5 times smaller than our original dataset of 45000 movies."
      ]
    },
    {
      "cell_type": "markdown",
      "metadata": {
        "_cell_guid": "1e73645a-0b0b-441f-93b4-ce92069e1852",
        "_uuid": "c41800b7a9d8b8d48ba1c22b8430929f54e9884e",
        "id": "GIFv56S_vYFk"
      },
      "source": [
        "### Movie Description Based Recommender\n",
        "\n",
        "Let us first try to build a recommender using movie descriptions and taglines. We do not have a quantitative metric to judge our machine's performance so this will have to be done qualitatively."
      ]
    },
    {
      "cell_type": "code",
      "metadata": {
        "_cell_guid": "c880adf9-051b-40cd-8e95-cd8c4acabb17",
        "_uuid": "453bdc941ba5a1e86e17b0f106dc44040c0defdf",
        "collapsed": true,
        "id": "rsgMMMQBvYFl"
      },
      "source": [
        "smd['tagline'] = smd['tagline'].fillna('')\n",
        "smd['description'] = smd['overview'] + smd['tagline']\n",
        "smd['description'] = smd['description'].fillna('')"
      ],
      "execution_count": 20,
      "outputs": []
    },
    {
      "cell_type": "code",
      "metadata": {
        "_cell_guid": "6b385623-a978-43c4-b66a-813d5e9c6790",
        "_uuid": "f9d99726d9f2667fa6fc15ce5c5e31d36a970828",
        "collapsed": true,
        "id": "wFrXBw9jvYFm"
      },
      "source": [
        "tf = TfidfVectorizer(analyzer='word',ngram_range=(1, 2),min_df=0, stop_words='english')\n",
        "tfidf_matrix = tf.fit_transform(smd['description'])"
      ],
      "execution_count": 21,
      "outputs": []
    },
    {
      "cell_type": "code",
      "metadata": {
        "_cell_guid": "5e18427c-2ef8-4a98-84e2-323a4af72ade",
        "_uuid": "6c21cc05d3c13ea637028f2e5836c719986e47c7",
        "id": "2MCPukskvYFm",
        "colab": {
          "base_uri": "https://localhost:8080/",
          "height": 0
        },
        "outputId": "e5cd6707-cf01-4b67-8a74-1d9ea539cbdb"
      },
      "source": [
        "tfidf_matrix.shape"
      ],
      "execution_count": 22,
      "outputs": [
        {
          "output_type": "execute_result",
          "data": {
            "text/plain": [
              "(9099, 268124)"
            ]
          },
          "metadata": {
            "tags": []
          },
          "execution_count": 22
        }
      ]
    },
    {
      "cell_type": "markdown",
      "metadata": {
        "_cell_guid": "7d4db389-9f30-46e9-b8af-69fe9b40ada5",
        "_uuid": "1a98e05af67de3475999e1891d965ce9f73ce316",
        "id": "yHnUYlExvYFn"
      },
      "source": [
        "#### Cosine Similarity\n",
        "\n",
        "I will be using the Cosine Similarity to calculate a numeric quantity that denotes the similarity between two movies. Mathematically, it is defined as follows:\n",
        "\n",
        "$cosine(x,y) = \\frac{x. y^\\intercal}{||x||.||y||} $\n",
        "\n",
        "Since we have used the TF-IDF Vectorizer, calculating the Dot Product will directly give us the Cosine Similarity Score. Therefore, we will use sklearn's **linear_kernel** instead of cosine_similarities since it is much faster."
      ]
    },
    {
      "cell_type": "code",
      "metadata": {
        "_cell_guid": "8b27b34f-a585-42bf-b35f-1de4e9181fce",
        "_uuid": "e324c0e951287359f7810a3da85631ebc7725c53",
        "collapsed": true,
        "id": "LVw57x28vYFo"
      },
      "source": [
        "cosine_sim = linear_kernel(tfidf_matrix, tfidf_matrix)"
      ],
      "execution_count": 23,
      "outputs": []
    },
    {
      "cell_type": "code",
      "metadata": {
        "_cell_guid": "148a994f-3e7f-4350-9ea3-41eb95f106e8",
        "_uuid": "ebb6823a9dce997d965dc89049a06512cbfb17af",
        "id": "oCUMOdVsvYFo",
        "colab": {
          "base_uri": "https://localhost:8080/",
          "height": 0
        },
        "outputId": "5f3bc054-954e-4a9b-92a7-e58a2ac3743e"
      },
      "source": [
        "cosine_sim[0]"
      ],
      "execution_count": 24,
      "outputs": [
        {
          "output_type": "execute_result",
          "data": {
            "text/plain": [
              "array([1.        , 0.00680476, 0.        , ..., 0.        , 0.00344913,\n",
              "       0.        ])"
            ]
          },
          "metadata": {
            "tags": []
          },
          "execution_count": 24
        }
      ]
    },
    {
      "cell_type": "markdown",
      "metadata": {
        "_cell_guid": "f4001114-a1c6-4762-b0cf-64eb4f2658ac",
        "_uuid": "b7a65051edc24edfe6e2afaf3a9c3a148af5bcaf",
        "id": "PhpiaWstvYFp"
      },
      "source": [
        "We now have a pairwise cosine similarity matrix for all the movies in our dataset. The next step is to write a function that returns the 30 most similar movies based on the cosine similarity score."
      ]
    },
    {
      "cell_type": "code",
      "metadata": {
        "_cell_guid": "446d22fd-e7c1-42a6-851b-593f60175ce0",
        "_uuid": "ff016d61895e99fe7b0495c51b86917bdbe2712d",
        "collapsed": true,
        "id": "ObLp6iohvYFp"
      },
      "source": [
        "smd = smd.reset_index()\n",
        "titles = smd['title']\n",
        "indices = pd.Series(smd.index, index=smd['title'])"
      ],
      "execution_count": 25,
      "outputs": []
    },
    {
      "cell_type": "code",
      "metadata": {
        "_cell_guid": "d7352ae7-fbc3-4459-b257-76a44000ce6a",
        "_uuid": "62f49212a8b935ef63a3643e1bb6f629521f05b7",
        "collapsed": true,
        "id": "rV9JqZqXvYFq"
      },
      "source": [
        "def get_recommendations(title):\n",
        "    idx = indices[title]\n",
        "    sim_scores = list(enumerate(cosine_sim[idx]))\n",
        "    sim_scores = sorted(sim_scores, key=lambda x: x[1], reverse=True)\n",
        "    sim_scores = sim_scores[1:31]\n",
        "    movie_indices = [i[0] for i in sim_scores]\n",
        "    return titles.iloc[movie_indices]"
      ],
      "execution_count": 27,
      "outputs": []
    },
    {
      "cell_type": "markdown",
      "metadata": {
        "_cell_guid": "e8c1e16a-a1ab-4cae-916b-dcdc2ebaf9a9",
        "_uuid": "8960b80c95e09e6b4e328872efebd2e4ee711df2",
        "id": "vtTq7B0hvYFq"
      },
      "source": [
        "We're all set. Let us now try and get the top recommendations for a few movies and see how good the recommendations are."
      ]
    },
    {
      "cell_type": "code",
      "metadata": {
        "_cell_guid": "73bb1266-5797-47ce-b61f-fa9e0d7ce077",
        "_uuid": "46f418fd12b35e86a7a2026ef1975be822cadde3",
        "id": "G1wq2BmpvYFq",
        "colab": {
          "base_uri": "https://localhost:8080/",
          "height": 0
        },
        "outputId": "2eff2dd2-934d-4cb1-c768-10be9b0f2a9a"
      },
      "source": [
        "get_recommendations('The Dark Knight').head(10)"
      ],
      "execution_count": 62,
      "outputs": [
        {
          "output_type": "execute_result",
          "data": {
            "text/plain": [
              "7931                      The Dark Knight Rises\n",
              "132                              Batman Forever\n",
              "1113                             Batman Returns\n",
              "8227    Batman: The Dark Knight Returns, Part 2\n",
              "7565                 Batman: Under the Red Hood\n",
              "524                                      Batman\n",
              "7901                           Batman: Year One\n",
              "2579               Batman: Mask of the Phantasm\n",
              "2696                                        JFK\n",
              "8165    Batman: The Dark Knight Returns, Part 1\n",
              "Name: title, dtype: object"
            ]
          },
          "metadata": {
            "tags": []
          },
          "execution_count": 62
        }
      ]
    },
    {
      "cell_type": "markdown",
      "metadata": {
        "_cell_guid": "a9a16fac-217d-4b36-b280-ca250ee921fe",
        "_uuid": "ddc06567eb0fe770c7f3b77f3cb7b777a6923f5c",
        "id": "NCyq1KguvYF-"
      },
      "source": [
        "## Filtering\n",
        "\n"
      ]
    },
    {
      "cell_type": "code",
      "metadata": {
        "_cell_guid": "632e75c9-0068-456a-82d5-8a8eb44e98df",
        "_uuid": "de715e5b70a605e3bd65ad50bbfa9b71aac1aef4",
        "collapsed": true,
        "id": "ey-O-dl3vYF-"
      },
      "source": [
        "reader = Reader()"
      ],
      "execution_count": 30,
      "outputs": []
    },
    {
      "cell_type": "code",
      "metadata": {
        "_cell_guid": "7b7a10d4-4f72-4c07-a514-ae5c2f0663a9",
        "_uuid": "18c484e823d3c4c1bbb91a5aa708e277c97cdaf1",
        "id": "thwXWoHnvYF_",
        "colab": {
          "base_uri": "https://localhost:8080/",
          "height": 204
        },
        "outputId": "494d5a61-0c48-40f5-9ab7-4c2a77b40784"
      },
      "source": [
        "ratings = pd.read_csv('/content/ratings_small.csv')\n",
        "ratings.head()"
      ],
      "execution_count": 32,
      "outputs": [
        {
          "output_type": "execute_result",
          "data": {
            "text/html": [
              "<div>\n",
              "<style scoped>\n",
              "    .dataframe tbody tr th:only-of-type {\n",
              "        vertical-align: middle;\n",
              "    }\n",
              "\n",
              "    .dataframe tbody tr th {\n",
              "        vertical-align: top;\n",
              "    }\n",
              "\n",
              "    .dataframe thead th {\n",
              "        text-align: right;\n",
              "    }\n",
              "</style>\n",
              "<table border=\"1\" class=\"dataframe\">\n",
              "  <thead>\n",
              "    <tr style=\"text-align: right;\">\n",
              "      <th></th>\n",
              "      <th>userId</th>\n",
              "      <th>movieId</th>\n",
              "      <th>rating</th>\n",
              "      <th>timestamp</th>\n",
              "    </tr>\n",
              "  </thead>\n",
              "  <tbody>\n",
              "    <tr>\n",
              "      <th>0</th>\n",
              "      <td>1</td>\n",
              "      <td>31</td>\n",
              "      <td>2.5</td>\n",
              "      <td>1260759144</td>\n",
              "    </tr>\n",
              "    <tr>\n",
              "      <th>1</th>\n",
              "      <td>1</td>\n",
              "      <td>1029</td>\n",
              "      <td>3.0</td>\n",
              "      <td>1260759179</td>\n",
              "    </tr>\n",
              "    <tr>\n",
              "      <th>2</th>\n",
              "      <td>1</td>\n",
              "      <td>1061</td>\n",
              "      <td>3.0</td>\n",
              "      <td>1260759182</td>\n",
              "    </tr>\n",
              "    <tr>\n",
              "      <th>3</th>\n",
              "      <td>1</td>\n",
              "      <td>1129</td>\n",
              "      <td>2.0</td>\n",
              "      <td>1260759185</td>\n",
              "    </tr>\n",
              "    <tr>\n",
              "      <th>4</th>\n",
              "      <td>1</td>\n",
              "      <td>1172</td>\n",
              "      <td>4.0</td>\n",
              "      <td>1260759205</td>\n",
              "    </tr>\n",
              "  </tbody>\n",
              "</table>\n",
              "</div>"
            ],
            "text/plain": [
              "   userId  movieId  rating   timestamp\n",
              "0       1       31     2.5  1260759144\n",
              "1       1     1029     3.0  1260759179\n",
              "2       1     1061     3.0  1260759182\n",
              "3       1     1129     2.0  1260759185\n",
              "4       1     1172     4.0  1260759205"
            ]
          },
          "metadata": {
            "tags": []
          },
          "execution_count": 32
        }
      ]
    },
    {
      "cell_type": "code",
      "metadata": {
        "_cell_guid": "f2f755fd-c3ef-4095-add8-f88350cf1b36",
        "_uuid": "daa1711d353573b2dcf5145f1882397a2adcab27",
        "collapsed": true,
        "id": "pBpAgVuWvYF_"
      },
      "source": [
        "data = Dataset.load_from_df(ratings[['userId', 'movieId', 'rating']], reader)"
      ],
      "execution_count": 33,
      "outputs": []
    },
    {
      "cell_type": "code",
      "metadata": {
        "_cell_guid": "41ca3304-0fa5-401d-8c20-48b5c7cfb0d4",
        "_uuid": "edc105b14d9331d3adb44155c881670c5afacc41",
        "id": "l6mUIiswvYF_",
        "colab": {
          "base_uri": "https://localhost:8080/",
          "height": 0
        },
        "outputId": "d1127121-051a-4702-cfa9-2daf07f3286f"
      },
      "source": [
        "svd = SVD()\n",
        "model_selection.cross_validate(svd, data, measures=['RMSE', 'MAE'], cv=10, verbose=True)"
      ],
      "execution_count": 34,
      "outputs": [
        {
          "output_type": "stream",
          "text": [
            "Evaluating RMSE, MAE of algorithm SVD on 10 split(s).\n",
            "\n",
            "                  Fold 1  Fold 2  Fold 3  Fold 4  Fold 5  Fold 6  Fold 7  Fold 8  Fold 9  Fold 10 Mean    Std     \n",
            "RMSE (testset)    0.9028  0.9035  0.8915  0.8871  0.8852  0.8847  0.8976  0.8806  0.8976  0.8836  0.8914  0.0080  \n",
            "MAE (testset)     0.6981  0.6912  0.6844  0.6842  0.6799  0.6814  0.6905  0.6820  0.6888  0.6824  0.6863  0.0054  \n",
            "Fit time          5.54    5.77    5.85    5.64    5.57    5.55    5.67    5.56    5.78    5.83    5.68    0.12    \n",
            "Test time         0.09    0.09    0.10    0.10    0.09    0.08    0.09    0.08    0.10    0.17    0.10    0.02    \n"
          ],
          "name": "stdout"
        },
        {
          "output_type": "execute_result",
          "data": {
            "text/plain": [
              "{'fit_time': (5.537802219390869,\n",
              "  5.767392635345459,\n",
              "  5.850710868835449,\n",
              "  5.642165660858154,\n",
              "  5.565902233123779,\n",
              "  5.546085596084595,\n",
              "  5.673403263092041,\n",
              "  5.563448190689087,\n",
              "  5.778152704238892,\n",
              "  5.834158658981323),\n",
              " 'test_mae': array([0.69812533, 0.69122995, 0.68441792, 0.68416319, 0.67989109,\n",
              "        0.68140451, 0.69050099, 0.68202172, 0.6887796 , 0.68239406]),\n",
              " 'test_rmse': array([0.90281687, 0.9034858 , 0.89147685, 0.88705191, 0.88520195,\n",
              "        0.88474212, 0.89758321, 0.88059633, 0.89763172, 0.88355464]),\n",
              " 'test_time': (0.09323740005493164,\n",
              "  0.08777070045471191,\n",
              "  0.10126924514770508,\n",
              "  0.09819293022155762,\n",
              "  0.0888524055480957,\n",
              "  0.0836482048034668,\n",
              "  0.08517050743103027,\n",
              "  0.08396649360656738,\n",
              "  0.09875893592834473,\n",
              "  0.16712594032287598)}"
            ]
          },
          "metadata": {
            "tags": []
          },
          "execution_count": 34
        }
      ]
    },
    {
      "cell_type": "markdown",
      "metadata": {
        "_cell_guid": "0ac7021a-9174-48bd-a1ca-5ab227409963",
        "_uuid": "6f3d3cd411dc437a28ddbd184e77d9229bf224a2",
        "id": "epHqEKpmvYGA"
      },
      "source": [
        "We get a mean **Root Mean Sqaure Error** of 0.8963 which is more than good enough for our case. Let us now train on our dataset and arrive at predictions."
      ]
    },
    {
      "cell_type": "code",
      "metadata": {
        "_cell_guid": "b39199fa-a02c-4509-852d-85020b36424d",
        "_uuid": "b588afd2750b0ba0793b953edac8c366222f8500",
        "collapsed": true,
        "id": "3L1pyHZSvYGA",
        "colab": {
          "base_uri": "https://localhost:8080/",
          "height": 0
        },
        "outputId": "6bac2757-ddf2-4cb9-f38a-030830a1c638"
      },
      "source": [
        "trainset = data.build_full_trainset()\n",
        "svd.fit(trainset)"
      ],
      "execution_count": 35,
      "outputs": [
        {
          "output_type": "execute_result",
          "data": {
            "text/plain": [
              "<surprise.prediction_algorithms.matrix_factorization.SVD at 0x7f7f0d185fd0>"
            ]
          },
          "metadata": {
            "tags": []
          },
          "execution_count": 35
        }
      ]
    },
    {
      "cell_type": "markdown",
      "metadata": {
        "_cell_guid": "9d6653dc-7ad4-4c78-9c50-bbfe988b4397",
        "_uuid": "f9fc5344c7545c16539aa0966f62b59be1761f34",
        "id": "5z5Ce_EtvYGA"
      },
      "source": [
        "Let us pick user 1 and check the ratings s/he has given."
      ]
    },
    {
      "cell_type": "code",
      "metadata": {
        "_cell_guid": "b57dd617-c9aa-4928-a7de-c6b7036cc07b",
        "_uuid": "2307233c3213417079c46fcfaaf2638ef1f0059f",
        "id": "INW7LkIJvYGB",
        "colab": {
          "base_uri": "https://localhost:8080/",
          "height": 669
        },
        "outputId": "9f6bb7a6-11a4-4487-cb1c-45962c3f6835"
      },
      "source": [
        "ratings[ratings['userId'] == 1]"
      ],
      "execution_count": 36,
      "outputs": [
        {
          "output_type": "execute_result",
          "data": {
            "text/html": [
              "<div>\n",
              "<style scoped>\n",
              "    .dataframe tbody tr th:only-of-type {\n",
              "        vertical-align: middle;\n",
              "    }\n",
              "\n",
              "    .dataframe tbody tr th {\n",
              "        vertical-align: top;\n",
              "    }\n",
              "\n",
              "    .dataframe thead th {\n",
              "        text-align: right;\n",
              "    }\n",
              "</style>\n",
              "<table border=\"1\" class=\"dataframe\">\n",
              "  <thead>\n",
              "    <tr style=\"text-align: right;\">\n",
              "      <th></th>\n",
              "      <th>userId</th>\n",
              "      <th>movieId</th>\n",
              "      <th>rating</th>\n",
              "      <th>timestamp</th>\n",
              "    </tr>\n",
              "  </thead>\n",
              "  <tbody>\n",
              "    <tr>\n",
              "      <th>0</th>\n",
              "      <td>1</td>\n",
              "      <td>31</td>\n",
              "      <td>2.5</td>\n",
              "      <td>1260759144</td>\n",
              "    </tr>\n",
              "    <tr>\n",
              "      <th>1</th>\n",
              "      <td>1</td>\n",
              "      <td>1029</td>\n",
              "      <td>3.0</td>\n",
              "      <td>1260759179</td>\n",
              "    </tr>\n",
              "    <tr>\n",
              "      <th>2</th>\n",
              "      <td>1</td>\n",
              "      <td>1061</td>\n",
              "      <td>3.0</td>\n",
              "      <td>1260759182</td>\n",
              "    </tr>\n",
              "    <tr>\n",
              "      <th>3</th>\n",
              "      <td>1</td>\n",
              "      <td>1129</td>\n",
              "      <td>2.0</td>\n",
              "      <td>1260759185</td>\n",
              "    </tr>\n",
              "    <tr>\n",
              "      <th>4</th>\n",
              "      <td>1</td>\n",
              "      <td>1172</td>\n",
              "      <td>4.0</td>\n",
              "      <td>1260759205</td>\n",
              "    </tr>\n",
              "    <tr>\n",
              "      <th>5</th>\n",
              "      <td>1</td>\n",
              "      <td>1263</td>\n",
              "      <td>2.0</td>\n",
              "      <td>1260759151</td>\n",
              "    </tr>\n",
              "    <tr>\n",
              "      <th>6</th>\n",
              "      <td>1</td>\n",
              "      <td>1287</td>\n",
              "      <td>2.0</td>\n",
              "      <td>1260759187</td>\n",
              "    </tr>\n",
              "    <tr>\n",
              "      <th>7</th>\n",
              "      <td>1</td>\n",
              "      <td>1293</td>\n",
              "      <td>2.0</td>\n",
              "      <td>1260759148</td>\n",
              "    </tr>\n",
              "    <tr>\n",
              "      <th>8</th>\n",
              "      <td>1</td>\n",
              "      <td>1339</td>\n",
              "      <td>3.5</td>\n",
              "      <td>1260759125</td>\n",
              "    </tr>\n",
              "    <tr>\n",
              "      <th>9</th>\n",
              "      <td>1</td>\n",
              "      <td>1343</td>\n",
              "      <td>2.0</td>\n",
              "      <td>1260759131</td>\n",
              "    </tr>\n",
              "    <tr>\n",
              "      <th>10</th>\n",
              "      <td>1</td>\n",
              "      <td>1371</td>\n",
              "      <td>2.5</td>\n",
              "      <td>1260759135</td>\n",
              "    </tr>\n",
              "    <tr>\n",
              "      <th>11</th>\n",
              "      <td>1</td>\n",
              "      <td>1405</td>\n",
              "      <td>1.0</td>\n",
              "      <td>1260759203</td>\n",
              "    </tr>\n",
              "    <tr>\n",
              "      <th>12</th>\n",
              "      <td>1</td>\n",
              "      <td>1953</td>\n",
              "      <td>4.0</td>\n",
              "      <td>1260759191</td>\n",
              "    </tr>\n",
              "    <tr>\n",
              "      <th>13</th>\n",
              "      <td>1</td>\n",
              "      <td>2105</td>\n",
              "      <td>4.0</td>\n",
              "      <td>1260759139</td>\n",
              "    </tr>\n",
              "    <tr>\n",
              "      <th>14</th>\n",
              "      <td>1</td>\n",
              "      <td>2150</td>\n",
              "      <td>3.0</td>\n",
              "      <td>1260759194</td>\n",
              "    </tr>\n",
              "    <tr>\n",
              "      <th>15</th>\n",
              "      <td>1</td>\n",
              "      <td>2193</td>\n",
              "      <td>2.0</td>\n",
              "      <td>1260759198</td>\n",
              "    </tr>\n",
              "    <tr>\n",
              "      <th>16</th>\n",
              "      <td>1</td>\n",
              "      <td>2294</td>\n",
              "      <td>2.0</td>\n",
              "      <td>1260759108</td>\n",
              "    </tr>\n",
              "    <tr>\n",
              "      <th>17</th>\n",
              "      <td>1</td>\n",
              "      <td>2455</td>\n",
              "      <td>2.5</td>\n",
              "      <td>1260759113</td>\n",
              "    </tr>\n",
              "    <tr>\n",
              "      <th>18</th>\n",
              "      <td>1</td>\n",
              "      <td>2968</td>\n",
              "      <td>1.0</td>\n",
              "      <td>1260759200</td>\n",
              "    </tr>\n",
              "    <tr>\n",
              "      <th>19</th>\n",
              "      <td>1</td>\n",
              "      <td>3671</td>\n",
              "      <td>3.0</td>\n",
              "      <td>1260759117</td>\n",
              "    </tr>\n",
              "  </tbody>\n",
              "</table>\n",
              "</div>"
            ],
            "text/plain": [
              "    userId  movieId  rating   timestamp\n",
              "0        1       31     2.5  1260759144\n",
              "1        1     1029     3.0  1260759179\n",
              "2        1     1061     3.0  1260759182\n",
              "3        1     1129     2.0  1260759185\n",
              "4        1     1172     4.0  1260759205\n",
              "5        1     1263     2.0  1260759151\n",
              "6        1     1287     2.0  1260759187\n",
              "7        1     1293     2.0  1260759148\n",
              "8        1     1339     3.5  1260759125\n",
              "9        1     1343     2.0  1260759131\n",
              "10       1     1371     2.5  1260759135\n",
              "11       1     1405     1.0  1260759203\n",
              "12       1     1953     4.0  1260759191\n",
              "13       1     2105     4.0  1260759139\n",
              "14       1     2150     3.0  1260759194\n",
              "15       1     2193     2.0  1260759198\n",
              "16       1     2294     2.0  1260759108\n",
              "17       1     2455     2.5  1260759113\n",
              "18       1     2968     1.0  1260759200\n",
              "19       1     3671     3.0  1260759117"
            ]
          },
          "metadata": {
            "tags": []
          },
          "execution_count": 36
        }
      ]
    },
    {
      "cell_type": "code",
      "metadata": {
        "_cell_guid": "e0701e4b-dde1-4791-b96e-faa4ae40df8e",
        "_uuid": "9c22aa0cc39595a4414d227a284f92b382eab67a",
        "id": "SGxhQ2xlvYGB",
        "colab": {
          "base_uri": "https://localhost:8080/",
          "height": 0
        },
        "outputId": "ee4e0f0a-b1e4-4cc7-954f-b9a8bb356afa"
      },
      "source": [
        "svd.predict(1, 302, 3)"
      ],
      "execution_count": 37,
      "outputs": [
        {
          "output_type": "execute_result",
          "data": {
            "text/plain": [
              "Prediction(uid=1, iid=302, r_ui=3, est=2.609826173162934, details={'was_impossible': False})"
            ]
          },
          "metadata": {
            "tags": []
          },
          "execution_count": 37
        }
      ]
    },
    {
      "cell_type": "markdown",
      "metadata": {
        "_cell_guid": "42878787-6661-4d30-b58a-c5408e683157",
        "_uuid": "ba08a1dc335c8662f4bec66cec36fef04b2c63b5",
        "id": "fqgyrJSzvYGC"
      },
      "source": [
        "For movie with ID 302, we get an estimated prediction of **2.686**. One startling feature of this recommender system is that it doesn't care what the movie is (or what it contains). It works purely on the basis of an assigned movie ID and tries to predict ratings based on how the other users have predicted the movie."
      ]
    },
    {
      "cell_type": "markdown",
      "metadata": {
        "_cell_guid": "812fc4c7-b334-4f54-a05f-8fc0e7962a92",
        "_uuid": "ad1edcae8eecd5c725edbe18082bc4d8103ca800",
        "id": "X-9WSgzovYGF"
      },
      "source": [
        "#Collaborative Filtering\n",
        "\n"
      ]
    },
    {
      "cell_type": "code",
      "metadata": {
        "_cell_guid": "304b0809-4070-4954-99ed-203a4b8b6956",
        "_uuid": "e53889f19f6d352bb0418567941dff8f9e57da41",
        "collapsed": true,
        "id": "V9il2yWmvYGG"
      },
      "source": [
        "import pandas as pd\n",
        "import numpy as np"
      ],
      "execution_count": 53,
      "outputs": []
    },
    {
      "cell_type": "code",
      "metadata": {
        "id": "f8IHWwtGYH6j"
      },
      "source": [
        "data = pd.io.parsers.read_csv('/content/ratings.dat', \n",
        "    names=['user_id', 'movie_id', 'rating', 'time'],\n",
        "    engine='python', delimiter='::')\n",
        "\n",
        "movie_data = pd.io.parsers.read_csv('/content/movies.dat',\n",
        "    names=['movie_id', 'title', 'genre'],\n",
        "    engine='python', delimiter='::')"
      ],
      "execution_count": 40,
      "outputs": []
    },
    {
      "cell_type": "code",
      "metadata": {
        "id": "q2PcrzaSYKOd"
      },
      "source": [
        "ratings_mat = np.ndarray(\n",
        "    shape=(np.max(data.movie_id.values), np.max(data.user_id.values)),\n",
        "    dtype=np.uint8)\n",
        "ratings_mat[data.movie_id.values-1, data.user_id.values-1] = data.rating.values"
      ],
      "execution_count": 41,
      "outputs": []
    },
    {
      "cell_type": "code",
      "metadata": {
        "id": "m16ChqwuYaKR"
      },
      "source": [
        "normalised_mat = ratings_mat - np.asarray([(np.mean(ratings_mat, 1))]).T"
      ],
      "execution_count": 42,
      "outputs": []
    },
    {
      "cell_type": "code",
      "metadata": {
        "id": "BmM77yyvYddd"
      },
      "source": [
        "A = normalised_mat.T / np.sqrt(ratings_mat.shape[0] - 1)\n",
        "U, S, V = np.linalg.svd(A)"
      ],
      "execution_count": 43,
      "outputs": []
    },
    {
      "cell_type": "code",
      "metadata": {
        "id": "lQiTscV8YgMP"
      },
      "source": [
        "def top_cosine_similarity(data, movie_id, top_n=10):\n",
        "    index = movie_id - 1 # Movie id starts from 1 in the dataset\n",
        "    movie_row = data[index, :]\n",
        "    magnitude = np.sqrt(np.einsum('ij, ij -> i', data, data))\n",
        "    similarity = np.dot(movie_row, data.T) / (magnitude[index] * magnitude)\n",
        "    sort_indexes = np.argsort(-similarity)\n",
        "    return sort_indexes[:top_n]"
      ],
      "execution_count": 44,
      "outputs": []
    },
    {
      "cell_type": "code",
      "metadata": {
        "id": "2VqX4KjNY4j9"
      },
      "source": [
        "def print_similar_movies(movie_data, movie_id, top_indexes):\n",
        "    print('Recommendations for {0}: \\n'.format(\n",
        "    movie_data[movie_data.movie_id == movie_id].title.values[0]))\n",
        "    for id in top_indexes + 1:\n",
        "        print(movie_data[movie_data.movie_id == id].title.values[0])\n"
      ],
      "execution_count": 45,
      "outputs": []
    },
    {
      "cell_type": "code",
      "metadata": {
        "id": "e8ch0BjlY7jc"
      },
      "source": [
        "k = 50\n",
        "movie_id = 11 # (getting an id from movies.dat)\n",
        "top_n = 10\n",
        "sliced = V.T[:, :k] # representative data\n",
        "indexes = top_cosine_similarity(sliced, movie_id, top_n)"
      ],
      "execution_count": 63,
      "outputs": []
    },
    {
      "cell_type": "code",
      "metadata": {
        "colab": {
          "base_uri": "https://localhost:8080/",
          "height": 0
        },
        "id": "wnBPzREPY-UU",
        "outputId": "e9fa9ba6-244a-4b34-bab9-614250eec449"
      },
      "source": [
        "print_similar_movies(movie_data, movie_id, indexes)"
      ],
      "execution_count": 64,
      "outputs": [
        {
          "output_type": "stream",
          "text": [
            "Recommendations for American President, The (1995): \n",
            "\n",
            "American President, The (1995)\n",
            "Mighty Aphrodite (1995)\n",
            "Heavyweights (1994)\n",
            "Beans of Egypt, Maine, The (1994)\n",
            "Client, The (1994)\n",
            "Quiz Show (1994)\n",
            "True Lies (1994)\n",
            "Mr. Holland's Opus (1995)\n",
            "Calendar Girl (1993)\n",
            "Castle Freak (1995)\n"
          ],
          "name": "stdout"
        }
      ]
    },
    {
      "cell_type": "code",
      "metadata": {
        "id": "Cspb45kvZB9m"
      },
      "source": [
        ""
      ],
      "execution_count": null,
      "outputs": []
    },
    {
      "cell_type": "markdown",
      "metadata": {
        "_cell_guid": "248ec145-20e4-429c-8718-5c20834be1be",
        "_uuid": "b6fe882ef8417e28bb024306a3879dc67affb7c6",
        "id": "NB8kugssvYGC"
      },
      "source": [
        "## Hybrid Recommender\n",
        "\n"
      ]
    },
    {
      "cell_type": "markdown",
      "metadata": {
        "_cell_guid": "a22740ea-3bfd-4045-89f3-e4199b0c2c6a",
        "_uuid": "0bbff42606aede898eb199443c8c0c5e39a48650",
        "id": "ch3Jb23mvYGD"
      },
      "source": [
        "In this section, I will try to build a simple hybrid recommender that brings together techniques we have implemented in the content based and collaborative filter based engines. This is how it will work:\n",
        "\n",
        "* **Input:** User ID and the Title of a Movie\n",
        "* **Output:** Similar movies sorted on the basis of expected ratings by that particular user."
      ]
    },
    {
      "cell_type": "code",
      "metadata": {
        "_cell_guid": "97a7efdb-9b93-4ed2-ac89-45c2f99a7304",
        "_uuid": "299a5feac15cdb6fd01f4e243949ba2424f5901c",
        "collapsed": true,
        "id": "LkIRxJ9pvYGD"
      },
      "source": [
        "def convert_int(x):\n",
        "    try:\n",
        "        return int(x)\n",
        "    except:\n",
        "        return np.nan"
      ],
      "execution_count": 48,
      "outputs": []
    },
    {
      "cell_type": "code",
      "metadata": {
        "_cell_guid": "aae5c254-a6e7-40b3-bbda-b97a2d285ecd",
        "_uuid": "1d5f8381c8951f51e9e30d30a771fc7ded9761a2",
        "collapsed": true,
        "id": "zLurpwyWvYGD"
      },
      "source": [
        "id_map = pd.read_csv('/content/links_small.csv')[['movieId', 'tmdbId']]\n",
        "id_map['tmdbId'] = id_map['tmdbId'].apply(convert_int)\n",
        "id_map.columns = ['movieId', 'id']\n",
        "id_map = id_map.merge(smd[['title', 'id']], on='id').set_index('title')\n",
        "#id_map = id_map.set_index('tmdbId')"
      ],
      "execution_count": 49,
      "outputs": []
    },
    {
      "cell_type": "code",
      "metadata": {
        "_cell_guid": "07adb6c6-af45-47cb-ae9f-6ab64f64e3e4",
        "_uuid": "c2c54697ee62ecb46fdb33ffb53dcc27e5397253",
        "collapsed": true,
        "id": "7KexNl1-vYGE"
      },
      "source": [
        "indices_map = id_map.set_index('id')"
      ],
      "execution_count": 50,
      "outputs": []
    },
    {
      "cell_type": "code",
      "metadata": {
        "_cell_guid": "46b03dde-afd4-45c3-a733-7ad894a31edb",
        "_uuid": "92291dbdbd9c9161d500476609c9cf95247e2b24",
        "collapsed": true,
        "id": "xAKmPUMNvYGE"
      },
      "source": [
        "def hybrid(userId, title):\n",
        "    idx = indices[title]\n",
        "    tmdbId = id_map.loc[title]['id']\n",
        "    #print(idx)\n",
        "    movie_id = id_map.loc[title]['movieId']\n",
        "    \n",
        "    sim_scores = list(enumerate(cosine_sim[int(idx)]))\n",
        "    sim_scores = sorted(sim_scores, key=lambda x: x[1], reverse=True)\n",
        "    sim_scores = sim_scores[1:26]\n",
        "    movie_indices = [i[0] for i in sim_scores]\n",
        "    \n",
        "    movies = smd.iloc[movie_indices][['title', 'vote_count', 'vote_average', 'year', 'id']]\n",
        "    movies['est'] = movies['id'].apply(lambda x: svd.predict(userId, indices_map.loc[x]['movieId']).est)\n",
        "    movies = movies.sort_values('est', ascending=False)\n",
        "    return movies.head(10)"
      ],
      "execution_count": 51,
      "outputs": []
    },
    {
      "cell_type": "code",
      "metadata": {
        "_cell_guid": "ef53f237-5dd0-4f62-8c32-e9666b2268f5",
        "_uuid": "5cea2292f710fae80d580aa43c713531e97451ad",
        "id": "WaA65tfQvYGE",
        "colab": {
          "base_uri": "https://localhost:8080/",
          "height": 359
        },
        "outputId": "c6febd2e-27d4-4045-a9e7-8ffc5d891df3"
      },
      "source": [
        "hybrid(1, 'Avatar')"
      ],
      "execution_count": 52,
      "outputs": [
        {
          "output_type": "execute_result",
          "data": {
            "text/html": [
              "<div>\n",
              "<style scoped>\n",
              "    .dataframe tbody tr th:only-of-type {\n",
              "        vertical-align: middle;\n",
              "    }\n",
              "\n",
              "    .dataframe tbody tr th {\n",
              "        vertical-align: top;\n",
              "    }\n",
              "\n",
              "    .dataframe thead th {\n",
              "        text-align: right;\n",
              "    }\n",
              "</style>\n",
              "<table border=\"1\" class=\"dataframe\">\n",
              "  <thead>\n",
              "    <tr style=\"text-align: right;\">\n",
              "      <th></th>\n",
              "      <th>title</th>\n",
              "      <th>vote_count</th>\n",
              "      <th>vote_average</th>\n",
              "      <th>year</th>\n",
              "      <th>id</th>\n",
              "      <th>est</th>\n",
              "    </tr>\n",
              "  </thead>\n",
              "  <tbody>\n",
              "    <tr>\n",
              "      <th>2059</th>\n",
              "      <td>The Matrix</td>\n",
              "      <td>9079.0</td>\n",
              "      <td>7.9</td>\n",
              "      <td>1999</td>\n",
              "      <td>603</td>\n",
              "      <td>3.368629</td>\n",
              "    </tr>\n",
              "    <tr>\n",
              "      <th>6105</th>\n",
              "      <td>A Trip to the Moon</td>\n",
              "      <td>314.0</td>\n",
              "      <td>7.9</td>\n",
              "      <td>1902</td>\n",
              "      <td>775</td>\n",
              "      <td>3.132017</td>\n",
              "    </tr>\n",
              "    <tr>\n",
              "      <th>975</th>\n",
              "      <td>A Grand Day Out</td>\n",
              "      <td>199.0</td>\n",
              "      <td>7.4</td>\n",
              "      <td>1990</td>\n",
              "      <td>530</td>\n",
              "      <td>3.027768</td>\n",
              "    </tr>\n",
              "    <tr>\n",
              "      <th>1898</th>\n",
              "      <td>A Simple Plan</td>\n",
              "      <td>191.0</td>\n",
              "      <td>6.9</td>\n",
              "      <td>1998</td>\n",
              "      <td>10223</td>\n",
              "      <td>2.905379</td>\n",
              "    </tr>\n",
              "    <tr>\n",
              "      <th>2910</th>\n",
              "      <td>Pandora and the Flying Dutchman</td>\n",
              "      <td>19.0</td>\n",
              "      <td>6.5</td>\n",
              "      <td>1951</td>\n",
              "      <td>38688</td>\n",
              "      <td>2.815528</td>\n",
              "    </tr>\n",
              "    <tr>\n",
              "      <th>4804</th>\n",
              "      <td>Avalon</td>\n",
              "      <td>93.0</td>\n",
              "      <td>6.8</td>\n",
              "      <td>2001</td>\n",
              "      <td>10881</td>\n",
              "      <td>2.734442</td>\n",
              "    </tr>\n",
              "    <tr>\n",
              "      <th>4506</th>\n",
              "      <td>Tears of the Sun</td>\n",
              "      <td>582.0</td>\n",
              "      <td>6.4</td>\n",
              "      <td>2003</td>\n",
              "      <td>9567</td>\n",
              "      <td>2.690928</td>\n",
              "    </tr>\n",
              "    <tr>\n",
              "      <th>5229</th>\n",
              "      <td>Ambush</td>\n",
              "      <td>13.0</td>\n",
              "      <td>6.3</td>\n",
              "      <td>1999</td>\n",
              "      <td>49320</td>\n",
              "      <td>2.682566</td>\n",
              "    </tr>\n",
              "    <tr>\n",
              "      <th>3360</th>\n",
              "      <td>The Dish</td>\n",
              "      <td>62.0</td>\n",
              "      <td>6.6</td>\n",
              "      <td>2000</td>\n",
              "      <td>5257</td>\n",
              "      <td>2.660887</td>\n",
              "    </tr>\n",
              "    <tr>\n",
              "      <th>2854</th>\n",
              "      <td>The Hidden</td>\n",
              "      <td>85.0</td>\n",
              "      <td>6.7</td>\n",
              "      <td>1987</td>\n",
              "      <td>12476</td>\n",
              "      <td>2.650145</td>\n",
              "    </tr>\n",
              "  </tbody>\n",
              "</table>\n",
              "</div>"
            ],
            "text/plain": [
              "                                title  vote_count  ...     id       est\n",
              "2059                       The Matrix      9079.0  ...    603  3.368629\n",
              "6105               A Trip to the Moon       314.0  ...    775  3.132017\n",
              "975                   A Grand Day Out       199.0  ...    530  3.027768\n",
              "1898                    A Simple Plan       191.0  ...  10223  2.905379\n",
              "2910  Pandora and the Flying Dutchman        19.0  ...  38688  2.815528\n",
              "4804                           Avalon        93.0  ...  10881  2.734442\n",
              "4506                 Tears of the Sun       582.0  ...   9567  2.690928\n",
              "5229                           Ambush        13.0  ...  49320  2.682566\n",
              "3360                         The Dish        62.0  ...   5257  2.660887\n",
              "2854                       The Hidden        85.0  ...  12476  2.650145\n",
              "\n",
              "[10 rows x 6 columns]"
            ]
          },
          "metadata": {
            "tags": []
          },
          "execution_count": 52
        }
      ]
    },
    {
      "cell_type": "code",
      "metadata": {
        "_cell_guid": "381aba27-ecfa-43f1-9dad-c3379a57b8d9",
        "_uuid": "7fc2843807a5fbe792729eee7c74e9cabc6867ca",
        "id": "S-yLQTQtvYGF",
        "colab": {
          "base_uri": "https://localhost:8080/",
          "height": 359
        },
        "outputId": "c29e21bb-c8c8-404e-b44b-d4a25ba82444"
      },
      "source": [
        "hybrid(501, 'Avatar')"
      ],
      "execution_count": 60,
      "outputs": [
        {
          "output_type": "execute_result",
          "data": {
            "text/html": [
              "<div>\n",
              "<style scoped>\n",
              "    .dataframe tbody tr th:only-of-type {\n",
              "        vertical-align: middle;\n",
              "    }\n",
              "\n",
              "    .dataframe tbody tr th {\n",
              "        vertical-align: top;\n",
              "    }\n",
              "\n",
              "    .dataframe thead th {\n",
              "        text-align: right;\n",
              "    }\n",
              "</style>\n",
              "<table border=\"1\" class=\"dataframe\">\n",
              "  <thead>\n",
              "    <tr style=\"text-align: right;\">\n",
              "      <th></th>\n",
              "      <th>title</th>\n",
              "      <th>vote_count</th>\n",
              "      <th>vote_average</th>\n",
              "      <th>year</th>\n",
              "      <th>id</th>\n",
              "      <th>est</th>\n",
              "    </tr>\n",
              "  </thead>\n",
              "  <tbody>\n",
              "    <tr>\n",
              "      <th>975</th>\n",
              "      <td>A Grand Day Out</td>\n",
              "      <td>199.0</td>\n",
              "      <td>7.4</td>\n",
              "      <td>1990</td>\n",
              "      <td>530</td>\n",
              "      <td>4.283693</td>\n",
              "    </tr>\n",
              "    <tr>\n",
              "      <th>2059</th>\n",
              "      <td>The Matrix</td>\n",
              "      <td>9079.0</td>\n",
              "      <td>7.9</td>\n",
              "      <td>1999</td>\n",
              "      <td>603</td>\n",
              "      <td>4.087409</td>\n",
              "    </tr>\n",
              "    <tr>\n",
              "      <th>6105</th>\n",
              "      <td>A Trip to the Moon</td>\n",
              "      <td>314.0</td>\n",
              "      <td>7.9</td>\n",
              "      <td>1902</td>\n",
              "      <td>775</td>\n",
              "      <td>4.014781</td>\n",
              "    </tr>\n",
              "    <tr>\n",
              "      <th>7050</th>\n",
              "      <td>Pride and Glory</td>\n",
              "      <td>243.0</td>\n",
              "      <td>6.3</td>\n",
              "      <td>2008</td>\n",
              "      <td>13150</td>\n",
              "      <td>3.990152</td>\n",
              "    </tr>\n",
              "    <tr>\n",
              "      <th>3360</th>\n",
              "      <td>The Dish</td>\n",
              "      <td>62.0</td>\n",
              "      <td>6.6</td>\n",
              "      <td>2000</td>\n",
              "      <td>5257</td>\n",
              "      <td>3.967789</td>\n",
              "    </tr>\n",
              "    <tr>\n",
              "      <th>4804</th>\n",
              "      <td>Avalon</td>\n",
              "      <td>93.0</td>\n",
              "      <td>6.8</td>\n",
              "      <td>2001</td>\n",
              "      <td>10881</td>\n",
              "      <td>3.901616</td>\n",
              "    </tr>\n",
              "    <tr>\n",
              "      <th>1898</th>\n",
              "      <td>A Simple Plan</td>\n",
              "      <td>191.0</td>\n",
              "      <td>6.9</td>\n",
              "      <td>1998</td>\n",
              "      <td>10223</td>\n",
              "      <td>3.854944</td>\n",
              "    </tr>\n",
              "    <tr>\n",
              "      <th>7460</th>\n",
              "      <td>Green Zone</td>\n",
              "      <td>730.0</td>\n",
              "      <td>6.4</td>\n",
              "      <td>2010</td>\n",
              "      <td>22972</td>\n",
              "      <td>3.828632</td>\n",
              "    </tr>\n",
              "    <tr>\n",
              "      <th>7763</th>\n",
              "      <td>Hanna</td>\n",
              "      <td>1284.0</td>\n",
              "      <td>6.5</td>\n",
              "      <td>2011</td>\n",
              "      <td>50456</td>\n",
              "      <td>3.819937</td>\n",
              "    </tr>\n",
              "    <tr>\n",
              "      <th>4643</th>\n",
              "      <td>Heaven Knows, Mr. Allison</td>\n",
              "      <td>27.0</td>\n",
              "      <td>6.8</td>\n",
              "      <td>1957</td>\n",
              "      <td>37103</td>\n",
              "      <td>3.782048</td>\n",
              "    </tr>\n",
              "  </tbody>\n",
              "</table>\n",
              "</div>"
            ],
            "text/plain": [
              "                          title  vote_count  ...     id       est\n",
              "975             A Grand Day Out       199.0  ...    530  4.283693\n",
              "2059                 The Matrix      9079.0  ...    603  4.087409\n",
              "6105         A Trip to the Moon       314.0  ...    775  4.014781\n",
              "7050            Pride and Glory       243.0  ...  13150  3.990152\n",
              "3360                   The Dish        62.0  ...   5257  3.967789\n",
              "4804                     Avalon        93.0  ...  10881  3.901616\n",
              "1898              A Simple Plan       191.0  ...  10223  3.854944\n",
              "7460                 Green Zone       730.0  ...  22972  3.828632\n",
              "7763                      Hanna      1284.0  ...  50456  3.819937\n",
              "4643  Heaven Knows, Mr. Allison        27.0  ...  37103  3.782048\n",
              "\n",
              "[10 rows x 6 columns]"
            ]
          },
          "metadata": {
            "tags": []
          },
          "execution_count": 60
        }
      ]
    },
    {
      "cell_type": "markdown",
      "metadata": {
        "_cell_guid": "ca97ebb9-d1d2-4631-a15e-d29580c6c4d1",
        "_uuid": "446cdfa0b07f4f734d483393d56735c280978555",
        "id": "3znptDSsvYGF"
      },
      "source": [
        "We see that for our hybrid recommender, we get different recommendations for different users although the movie is the same. Hence, our recommendations are more personalized and tailored towards particular users."
      ]
    },
    {
      "cell_type": "markdown",
      "metadata": {
        "id": "uXFfN5nPaUK8"
      },
      "source": [
        "## Conclusion\n",
        "\n",
        "\n",
        "1. **Content Based Recommender:** We built two content based engines; one that took movie overview and taglines as input and the other which took metadata such as cast, crew, genre and keywords to come up with predictions. We also deviced a simple filter to give greater preference to movies with more votes and higher ratings.\n",
        "2. **Collaborative Filtering:** We used the powerful Surprise Library to build a collaborative filter based on single value decomposition. The RMSE obtained was less than 1 and the engine gave estimated ratings for a given user and movie.\n",
        "3. **Hybrid Engine:** We brought together ideas from content and collaborative filterting to build an engine that gave movie suggestions to a particular user based on the estimated ratings that it had internally calculated for that user."
      ]
    },
    {
      "cell_type": "code",
      "metadata": {
        "id": "Dzz6r9cKabCx"
      },
      "source": [
        ""
      ],
      "execution_count": null,
      "outputs": []
    }
  ]
}
